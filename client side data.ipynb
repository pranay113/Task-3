{
 "cells": [
  {
   "cell_type": "code",
   "execution_count": null,
   "id": "d6243e93",
   "metadata": {},
   "outputs": [],
   "source": [
    "import socket\n",
    "import urllib\n",
    "import json\n",
    "import pickle\n",
    "import numpy as np\n",
    "import cv2"
   ]
  },
  {
   "cell_type": "code",
   "execution_count": null,
   "id": "eae42f4e",
   "metadata": {},
   "outputs": [],
   "source": [
    "url = 'http://192.168.1.102:8080/shot.jpg'"
   ]
  },
  {
   "cell_type": "code",
   "execution_count": null,
   "id": "a4a6be00",
   "metadata": {},
   "outputs": [],
   "source": [
    "s = socket.socket(socket.AF_INET,socket.SOCK_STREAM)\n",
    "ip=\"192.168.1.101\"\n",
    "port=1234"
   ]
  },
  {
   "cell_type": "code",
   "execution_count": null,
   "id": "c275d5d9",
   "metadata": {},
   "outputs": [],
   "source": [
    "s.connect((ip,port))"
   ]
  },
  {
   "cell_type": "code",
   "execution_count": null,
   "id": "5c5ea398",
   "metadata": {},
   "outputs": [],
   "source": [
    "while True:\n",
    "    \n",
    "    x = s.recv(1000000)\n",
    "    print(\"Recieved\")\n",
    "    \n",
    "    imgResp=urllib.request.urlopen(url)\n",
    "    imgNp=np.array(bytearray(imgResp.read()),dtype=np.uint8)\n",
    "    img=cv2.imdecode(imgNp,-1)\n",
    "    img = cv2.resize(img,(700,500))\n",
    "    ret, buffer = cv2.imencode('.jpg',img)\n",
    "    bytedata = pickle.dumps(buffer)\n",
    "    \n",
    "    s.send(bytedata)\n",
    "    try:\n",
    "        data = pickle.loads(x)\n",
    "        data = cv2.imdecode(data,cv2.IMREAD_COLOR)\n",
    "        if data is not None :\n",
    "            cv2.imshow('photo',data)\n",
    "            if cv2.waitKey(10) == 13 :\n",
    "                break\n",
    "    except: \n",
    "        print(\"Waiting for the server!\")\n",
    "     \n",
    "cv2.destroyAllWindows()"
   ]
  },
  {
   "cell_type": "code",
   "execution_count": null,
   "id": "68270dc0",
   "metadata": {},
   "outputs": [],
   "source": []
  }
 ],
 "metadata": {
  "kernelspec": {
   "display_name": "Python 3",
   "language": "python",
   "name": "python3"
  },
  "language_info": {
   "codemirror_mode": {
    "name": "ipython",
    "version": 3
   },
   "file_extension": ".py",
   "mimetype": "text/x-python",
   "name": "python",
   "nbconvert_exporter": "python",
   "pygments_lexer": "ipython3",
   "version": "3.8.8"
  }
 },
 "nbformat": 4,
 "nbformat_minor": 5
}
