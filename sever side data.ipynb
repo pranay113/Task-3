{
 "cells": [
  {
   "cell_type": "code",
   "execution_count": null,
   "id": "00efd956",
   "metadata": {},
   "outputs": [],
   "source": [
    "import socket\n",
    "import json\n",
    "import pickle\n",
    "import cv2"
   ]
  },
  {
   "cell_type": "code",
   "execution_count": null,
   "id": "5be436bd",
   "metadata": {},
   "outputs": [],
   "source": [
    "cap = cv2.VideoCapture(0)\n",
    "s = socket.socket(socket.AF_INET,socket.SOCK_STREAM)\n",
    "ip=\"192.168.1.101\"\n",
    "port=1234"
   ]
  },
  {
   "cell_type": "code",
   "execution_count": null,
   "id": "42174d25",
   "metadata": {},
   "outputs": [],
   "source": [
    "s.bind((ip,port))\n",
    "print(\"Binded\")\n",
    "s.listen()"
   ]
  },
  {
   "cell_type": "code",
   "execution_count": null,
   "id": "73485679",
   "metadata": {},
   "outputs": [],
   "source": [
    "o , addr = s.accept()\n",
    "print(\"Connected to {}\".format(addr))\n",
    "while True:\n",
    "    ret , photo = cap.read()\n",
    "    ret, buffer = cv2.imencode('.jpg',photo)\n",
    "    bytedata = pickle.dumps(buffer)\n",
    "    o.send(bytedata)\n",
    "\n",
    "    x = o.recv(1000000)\n",
    "    \n",
    "    try:\n",
    "        data = pickle.loads(x)\n",
    "        data = cv2.imdecode(data,cv2.IMREAD_COLOR)\n",
    "        if data is not None :\n",
    "            cv2.imshow('serverphoto',data)\n",
    "            if cv2.waitKey(10) == 13 :\n",
    "                break\n",
    "    except: \n",
    "        print(\"Waiting for the client!\")\n",
    "cv2.destroyAllWindows()"
   ]
  },
  {
   "cell_type": "code",
   "execution_count": null,
   "id": "a6f70fdd",
   "metadata": {},
   "outputs": [],
   "source": [
    "\n"
   ]
  },
  {
   "cell_type": "code",
   "execution_count": null,
   "id": "341f49b8",
   "metadata": {},
   "outputs": [],
   "source": []
  }
 ],
 "metadata": {
  "kernelspec": {
   "display_name": "Python 3",
   "language": "python",
   "name": "python3"
  },
  "language_info": {
   "codemirror_mode": {
    "name": "ipython",
    "version": 3
   },
   "file_extension": ".py",
   "mimetype": "text/x-python",
   "name": "python",
   "nbconvert_exporter": "python",
   "pygments_lexer": "ipython3",
   "version": "3.8.8"
  }
 },
 "nbformat": 4,
 "nbformat_minor": 5
}
